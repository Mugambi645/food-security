{
 "cells": [
  {
   "cell_type": "markdown",
   "id": "43ce445a",
   "metadata": {},
   "source": [
    "<h3>Analysing Food Security in Kenya</h3>"
   ]
  },
  {
   "cell_type": "code",
   "execution_count": 2,
   "id": "75fbbb5d",
   "metadata": {},
   "outputs": [],
   "source": [
    "# import libraries\n",
    "import pandas as pd\n",
    "import pyreadstat as pr\n",
    "import matplotlib.pyplot as plt\n",
    "import seaborn as sns\n",
    "import numpy as np\n",
    "from scipy import  stats\n",
    "import warnings\n",
    "import statsmodels.api as sm"
   ]
  },
  {
   "cell_type": "code",
   "execution_count": 3,
   "id": "a42866c4",
   "metadata": {},
   "outputs": [],
   "source": [
    "# Ignore warnings\n",
    "warnings.filterwarnings(\"ignore\")"
   ]
  },
  {
   "cell_type": "code",
   "execution_count": 6,
   "id": "759456c5",
   "metadata": {},
   "outputs": [
    {
     "name": "stdout",
     "output_type": "stream",
     "text": [
      "File: data/SPSS Dataset Baseline Current.sav\n"
     ]
    }
   ],
   "source": [
    "# Check the data directory\n",
    "import os\n",
    "# List all files and directories in the data folder\n",
    "for root, dirs, files in os.walk(\"data\"):\n",
    "    for file in files:\n",
    "        file_path = os.path.join(root, file)\n",
    "        print(f\"File: {file_path}\")\n",
    "      \n",
    "\n"
   ]
  },
  {
   "cell_type": "code",
   "execution_count": 8,
   "id": "d01b1cf4",
   "metadata": {},
   "outputs": [
    {
     "name": "stdout",
     "output_type": "stream",
     "text": [
      "✅ SAV file loaded successfully!\n",
      "📊 Dataset shape: (944, 547)\n",
      "\n",
      "--- DataFrame Info ---\n",
      "<class 'pandas.core.frame.DataFrame'>\n",
      "RangeIndex: 944 entries, 0 to 943\n",
      "Columns: 547 entries, Country to HOUSEHOLD_SIZE\n",
      "dtypes: float64(527), object(20)\n",
      "memory usage: 3.9+ MB\n",
      "\n",
      "--- First 5 Rows ---\n",
      "   Country  Studysite  HH_code  B_HH_type  B_HH_count  B_m1_gender  \\\n",
      "0      1.0       12.0  12009.0        1.0         7.0          1.0   \n",
      "1      1.0       12.0  12008.0        3.0         5.0          2.0   \n",
      "2      2.0       22.0  22177.0        1.0        14.0          1.0   \n",
      "3      2.0       22.0  22265.0        1.0         7.0          1.0   \n",
      "4      2.0       21.0  21226.0        1.0         8.0          1.0   \n",
      "\n",
      "   B_m1_resp_age  B_m1_relation_head  B_m1_school_years  B_m1_home_occup  ...  \\\n",
      "0           62.0                 1.0                0.0              1.0  ...   \n",
      "1           60.0                 1.0                0.0              1.0  ...   \n",
      "2           39.0                 1.0                0.0              1.0  ...   \n",
      "3           58.0                 1.0                0.0              1.0  ...   \n",
      "4           36.0                 1.0                0.0              1.0  ...   \n",
      "\n",
      "   Q7F   Q8  Q8F   Q9  Q9F  HFIAS  MAHFP_total  EXPENDITURE_EXCEEDING_INCOME  \\\n",
      "0  2.0  1.0  2.0  1.0  2.0    4.0          2.0                           1.0   \n",
      "1  2.0  1.0  3.0  1.0  2.0    4.0          2.0                           0.0   \n",
      "2  1.0  1.0  1.0  0.0  NaN    4.0          3.0                           1.0   \n",
      "3  1.0  1.0  1.0  1.0  1.0    4.0          2.0                           0.0   \n",
      "4  1.0  1.0  1.0  1.0  1.0    4.0          1.0                           0.0   \n",
      "\n",
      "   HOUSEHOLD_HEAD_AGE  HOUSEHOLD_SIZE  \n",
      "0                 4.0             2.0  \n",
      "1                 3.0             1.0  \n",
      "2                 3.0             2.0  \n",
      "3                 3.0             2.0  \n",
      "4                 3.0             2.0  \n",
      "\n",
      "[5 rows x 547 columns]\n"
     ]
    }
   ],
   "source": [
    "# Set file path\n",
    "SAV_FILE_PATH = \"data/SPSS Dataset Baseline Current.sav\"\n",
    "\n",
    "# Create a folder for plots if it doesn't exist inorder to:\n",
    "if not os.path.exists(\"plots\"):\n",
    "    os.makedirs(\"plots\")\n",
    "\n",
    "# Load the SPSS FILE\n",
    "try:\n",
    "    df, meta = pr.read_sav(SAV_FILE_PATH)\n",
    "    print(\"✅ SAV file loaded successfully!\")\n",
    "    print(f\"📊 Dataset shape: {df.shape}\")\n",
    "except Exception as e:\n",
    "    print(f\"❌ Error loading SAV file: {e}\")\n",
    "    exit()\n",
    "\n",
    "\n",
    "# Basic information about the DataFrame\n",
    "print(\"\\n--- DataFrame Info ---\")\n",
    "df.info()\n",
    "\n",
    "\n",
    "# First few rows to get a glimpse of the data\n",
    "print(\"\\n--- First 5 Rows ---\")\n",
    "print(df.head())\n"
   ]
  },
  {
   "cell_type": "code",
   "execution_count": 9,
   "id": "1d12177d",
   "metadata": {},
   "outputs": [
    {
     "name": "stdout",
     "output_type": "stream",
     "text": [
      "\n",
      "--- Descriptive Statistics ---\n",
      "           Country   Studysite       HH_code   B_HH_type  B_HH_count  \\\n",
      "count   944.000000  944.000000    944.000000  943.000000  944.000000   \n",
      "unique         NaN         NaN           NaN         NaN         NaN   \n",
      "top            NaN         NaN           NaN         NaN         NaN   \n",
      "freq           NaN         NaN           NaN         NaN         NaN   \n",
      "mean      1.549788   17.029661  17139.824153    1.193001    5.829449   \n",
      "std       0.497779    5.041837   5055.312377    0.590866    2.048599   \n",
      "min       1.000000   11.000000  11001.000000    1.000000    1.000000   \n",
      "25%       1.000000   12.000000  12014.750000    1.000000    4.000000   \n",
      "50%       2.000000   21.000000  21047.500000    1.000000    6.000000   \n",
      "75%       2.000000   22.000000  22053.250000    1.000000    7.000000   \n",
      "max       2.000000   22.000000  22289.000000    3.000000   15.000000   \n",
      "\n",
      "        B_m1_gender  B_m1_resp_age  B_m1_relation_head  B_m1_school_years  \\\n",
      "count    944.000000     944.000000          944.000000         899.000000   \n",
      "unique          NaN            NaN                 NaN                NaN   \n",
      "top             NaN            NaN                 NaN                NaN   \n",
      "freq            NaN            NaN                 NaN                NaN   \n",
      "mean       1.125000      38.702331            1.317797          27.161290   \n",
      "std        0.330894      15.722047            3.059096         220.896966   \n",
      "min        1.000000       0.000000            1.000000           0.000000   \n",
      "25%        1.000000      29.750000            1.000000           0.000000   \n",
      "50%        1.000000      37.000000            1.000000           0.000000   \n",
      "75%        1.000000      48.000000            1.000000           5.000000   \n",
      "max        2.000000      94.000000           66.000000        2019.000000   \n",
      "\n",
      "        B_m1_home_occup  ...         Q7F          Q8         Q8F          Q9  \\\n",
      "count        944.000000  ...  621.000000  943.000000  627.000000  943.000000   \n",
      "unique              NaN  ...         NaN         NaN         NaN         NaN   \n",
      "top                 NaN  ...         NaN         NaN         NaN         NaN   \n",
      "freq                NaN  ...         NaN         NaN         NaN         NaN   \n",
      "mean           1.143008  ...    1.684380    0.664899    1.636364    0.478261   \n",
      "std            0.484865  ...    0.698083    0.472276    0.674846    0.499792   \n",
      "min            1.000000  ...    1.000000    0.000000    1.000000    0.000000   \n",
      "25%            1.000000  ...    1.000000    0.000000    1.000000    0.000000   \n",
      "50%            1.000000  ...    2.000000    1.000000    2.000000    0.000000   \n",
      "75%            1.000000  ...    2.000000    1.000000    2.000000    1.000000   \n",
      "max            3.000000  ...    3.000000    1.000000    3.000000    1.000000   \n",
      "\n",
      "               Q9F       HFIAS  MAHFP_total  EXPENDITURE_EXCEEDING_INCOME  \\\n",
      "count   451.000000  943.000000   882.000000                    944.000000   \n",
      "unique         NaN         NaN          NaN                           NaN   \n",
      "top            NaN         NaN          NaN                           NaN   \n",
      "freq           NaN         NaN          NaN                           NaN   \n",
      "mean      1.545455    3.655355     4.149660                      0.359110   \n",
      "std       0.679572    0.729272     2.019835                      0.479994   \n",
      "min       1.000000    1.000000     1.000000                      0.000000   \n",
      "25%       1.000000    4.000000     3.000000                      0.000000   \n",
      "50%       1.000000    4.000000     4.000000                      0.000000   \n",
      "75%       2.000000    4.000000     5.000000                      1.000000   \n",
      "max       3.000000    4.000000    12.000000                      1.000000   \n",
      "\n",
      "        HOUSEHOLD_HEAD_AGE  HOUSEHOLD_SIZE  \n",
      "count           944.000000      944.000000  \n",
      "unique                 NaN             NaN  \n",
      "top                    NaN             NaN  \n",
      "freq                   NaN             NaN  \n",
      "mean              2.582627        1.345339  \n",
      "std               0.729295        0.475731  \n",
      "min               1.000000        1.000000  \n",
      "25%               2.000000        1.000000  \n",
      "50%               3.000000        1.000000  \n",
      "75%               3.000000        2.000000  \n",
      "max               4.000000        2.000000  \n",
      "\n",
      "[11 rows x 547 columns]\n"
     ]
    }
   ],
   "source": [
    "\n",
    "# Get descriptive statistics for all columns\n",
    "print(\"\\n--- Descriptive Statistics ---\")\n",
    "print(df.describe(include=\"all\"))"
   ]
  },
  {
   "cell_type": "code",
   "execution_count": null,
   "id": "dd615989",
   "metadata": {},
   "outputs": [],
   "source": []
  }
 ],
 "metadata": {
  "kernelspec": {
   "display_name": "venv",
   "language": "python",
   "name": "python3"
  },
  "language_info": {
   "codemirror_mode": {
    "name": "ipython",
    "version": 3
   },
   "file_extension": ".py",
   "mimetype": "text/x-python",
   "name": "python",
   "nbconvert_exporter": "python",
   "pygments_lexer": "ipython3",
   "version": "3.13.2"
  }
 },
 "nbformat": 4,
 "nbformat_minor": 5
}
